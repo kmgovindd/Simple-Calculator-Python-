{
 "cells": [
  {
   "cell_type": "markdown",
   "id": "bf270e45",
   "metadata": {},
   "source": [
    "# A Simple Calculator"
   ]
  },
  {
   "cell_type": "code",
   "execution_count": 16,
   "id": "a9c2c96f",
   "metadata": {},
   "outputs": [],
   "source": [
    "import tkinter as tk"
   ]
  },
  {
   "cell_type": "code",
   "execution_count": 17,
   "id": "a44a9bf5",
   "metadata": {},
   "outputs": [],
   "source": [
    "def on_click(button_text):\n",
    "    current_text = entry.get()\n",
    "    \n",
    "    if button_text == \"=\":\n",
    "        try:\n",
    "            result = eval(current_text)\n",
    "            entry.delete(0, tk.END)\n",
    "            entry.insert(tk.END, str(result))\n",
    "        except Exception as e:\n",
    "            entry.delete(0, tk.END)\n",
    "            entry.insert(tk.END, \"Error\")\n",
    "    elif button_text == \"C\":\n",
    "        entry.delete(0, tk.END)\n",
    "    else:\n",
    "        entry.insert(tk.END, button_text)"
   ]
  },
  {
   "cell_type": "markdown",
   "id": "6ce47977",
   "metadata": {},
   "source": [
    "Create the main window"
   ]
  },
  {
   "cell_type": "code",
   "execution_count": 71,
   "id": "d3bf35f4",
   "metadata": {},
   "outputs": [],
   "source": [
    "root = tk.Tk()\n",
    "root.title(\"Simple Calculator\")\n",
    "root.geometry(\"300x500\")\n",
    "\n",
    "# Display the current calculations done\n",
    "entry = tk.Entry(root, font=(\"Arial\", 50), bd=5, insertwidth=7, width=5, justify=\"right\")\n",
    "entry.grid(row=0, column=0, columnspan=4)\n",
    "\n",
    "# Buttons\n",
    "buttons = [\n",
    "    '7', '8', '9', '/',\n",
    "    '4', '5', '6', '*',\n",
    "    '1', '2', '3', '-',\n",
    "    '0', '.', '=', '+',\n",
    "    'C'\n",
    "]\n",
    "\n",
    "# Creating and customizing the buttons\n",
    "row_val = 1\n",
    "col_val = 0\n",
    "for button_text in buttons:\n",
    "    button = tk.Button(root, text=button_text, width=7, height=4, command=lambda text=button_text: on_click(text), bd=2, relief=tk.RIDGE, bg=\"white\", fg=\"black\")\n",
    "    button.grid(row=row_val, column=col_val, padx=5, pady=5)\n",
    "    col_val += 1\n",
    "    if col_val > 3:\n",
    "        col_val = 0\n",
    "        row_val += 1\n",
    "root.mainloop()"
   ]
  },
  {
   "cell_type": "code",
   "execution_count": null,
   "id": "6e1dc508",
   "metadata": {},
   "outputs": [],
   "source": []
  },
  {
   "cell_type": "code",
   "execution_count": null,
   "id": "e885f136",
   "metadata": {},
   "outputs": [],
   "source": []
  }
 ],
 "metadata": {
  "kernelspec": {
   "display_name": "Python 3 (ipykernel)",
   "language": "python",
   "name": "python3"
  },
  "language_info": {
   "codemirror_mode": {
    "name": "ipython",
    "version": 3
   },
   "file_extension": ".py",
   "mimetype": "text/x-python",
   "name": "python",
   "nbconvert_exporter": "python",
   "pygments_lexer": "ipython3",
   "version": "3.11.5"
  }
 },
 "nbformat": 4,
 "nbformat_minor": 5
}
